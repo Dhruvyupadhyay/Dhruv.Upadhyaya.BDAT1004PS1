{
 "cells": [
  {
   "cell_type": "markdown",
   "id": "a9b6b093",
   "metadata": {},
   "source": [
    "# Problem Set 1"
   ]
  },
  {
   "cell_type": "markdown",
   "id": "7940f53a",
   "metadata": {},
   "source": [
    "## 1. What data type is each of the following?"
   ]
  },
  {
   "cell_type": "markdown",
   "id": "e14e255c",
   "metadata": {},
   "source": [
    "<p>5 - Integer</p>\n",
    "<p>5.0 - Double</p>\n",
    "<p>5 > 1 - Boolean</p>\n",
    "<p>'5' - Char</p>\n",
    "<p>5 * 2 - Integer</p>\n",
    "<p>'5' * 2 - Integer</p>\n",
    "<p>'5' + '2' - Integer</p>\n",
    "<p>5 / 2 - Integer</p>\n",
    "<p>5 % 2 - Integer</p>\n",
    "<p>{5, 2, 1} - Integer</p>\n",
    "<p>5 == 3 - Boolean</p>\n",
    "<p>Pi (3.14) - Double</p>"
   ]
  },
  {
   "cell_type": "markdown",
   "id": "dbe9daa1",
   "metadata": {},
   "source": [
    "## 2. - (a) How many letters are there in 'Supercalifragilisticexpialidocious'?"
   ]
  },
  {
   "cell_type": "code",
   "execution_count": 5,
   "id": "2db1e4e7",
   "metadata": {},
   "outputs": [
    {
     "name": "stdout",
     "output_type": "stream",
     "text": [
      "34\r\n"
     ]
    }
   ],
   "source": [
    "var a =\"Supercalifragilisticexpialidocious\";\n",
    "Console.WriteLine(a.Length); "
   ]
  },
  {
   "cell_type": "markdown",
   "id": "bbf22f26",
   "metadata": {},
   "source": [
    "## 2. - (b) Does 'Supercalifragilisticexpialidocious' contain 'ice' as a substring?"
   ]
  },
  {
   "cell_type": "code",
   "execution_count": 12,
   "id": "5393061b",
   "metadata": {},
   "outputs": [
    {
     "name": "stdout",
     "output_type": "stream",
     "text": [
      "ice is a substring of Supercalifragilisticexpialidocious\r\n"
     ]
    }
   ],
   "source": [
    "String a = \"Supercalifragilisticexpialidocious\";\n",
    "String b = \"ice\";\n",
    "// Used contains so to check if substring b is present in string a\n",
    "bool c = a.Contains(b); \n",
    "// if substring is present in string it will print if statement otherwise it will print else statement\n",
    "if (c = true)\n",
    "{\n",
    "    Console.WriteLine(\"{0} is a substring of {1}\", b, a);\n",
    "}\n",
    "else\n",
    "{\n",
    "    Console.WriteLine(\"{0} is not a substring of {1}\", b, a);\n",
    "}\n",
    "            "
   ]
  },
  {
   "cell_type": "markdown",
   "id": "22e8af9e",
   "metadata": {},
   "source": [
    "## 2. - (c) Which of the following words is the longest : Supercalifragilisticexpialidocious, Honorificabilitudinitatibus, or Bababadalgharaghtakamminarronnkonn?"
   ]
  },
  {
   "cell_type": "code",
   "execution_count": 1,
   "id": "d117416f",
   "metadata": {},
   "outputs": [
    {
     "name": "stdout",
     "output_type": "stream",
     "text": [
      "Supercalifragilisticexpialidocious and Bababadalgharaghtakamminarronnkonn are the longest word.\r\n"
     ]
    }
   ],
   "source": [
    "String a = \"Supercalifragilisticexpialidocious\";\n",
    "int d = a.Length;\n",
    "String b = \"Honorificabilitudinitatibus\";\n",
    "int e = b.Length;\n",
    "String c = \"Bababadalgharaghtakamminarronnkonn\";\n",
    "int f = c.Length;\n",
    "// Comparing the length of the words and printing the longest one\n",
    "while (d > e && d > f)\n",
    "{\n",
    "    Console.WriteLine(\"{0} is the longest word.\",a);\n",
    "    break;\n",
    "}\n",
    "while (e > d && e > f)\n",
    "{\n",
    "    Console.WriteLine(\"{0} is the longest word.\", b);\n",
    "    break;\n",
    "}\n",
    "while (f > d && f > e)\n",
    "{\n",
    "    Console.WriteLine(\"{0} is the longest word.\", c);\n",
    "    break;\n",
    "}\n",
    "while (d == e)\n",
    "{\n",
    "    Console.WriteLine(\"{0} and {1} are the longest words.\", a,b);\n",
    "    break;\n",
    "}\n",
    "while (e == f)\n",
    "{\n",
    "    Console.WriteLine(\"{0} and {1} are the longest words.\", b, c);\n",
    "    break;\n",
    "}\n",
    "while (d == f)\n",
    "{\n",
    "    Console.WriteLine(\"{0} and {1} are the longest words.\", a, c);\n",
    "    break;\n",
    "}"
   ]
  },
  {
   "cell_type": "markdown",
   "id": "e7b3ab73",
   "metadata": {},
   "source": [
    "## 2. - (d) \tWhich composer comes first in the dictionary: 'Berlioz', 'Borodin', 'Brian', 'Bartok',                     'Bellini', 'Buxtehude', 'Bernstein'. Which one comes last? "
   ]
  },
  {
   "cell_type": "code",
   "execution_count": 15,
   "id": "9d8e3a3c",
   "metadata": {},
   "outputs": [
    {
     "name": "stdout",
     "output_type": "stream",
     "text": [
      "Bartok comes first in the dictionary.\n",
      "Buxtehude comes last in the dictionary.\n"
     ]
    }
   ],
   "source": [
    "string[] Arr = new string[7];\n",
    "Arr[0] = \"Berlioz\";\n",
    "Arr[1] = \"Borodin\";\n",
    "Arr[2] = \"Brian\";\n",
    "Arr[3] = \"Bartok\";\n",
    "Arr[4] = \"Bellini\";\n",
    "Arr[5] = \"Buxtehude\";\n",
    "Arr[6] = \"Bernstein\";\n",
    "// Sorting the array and printing the first and last composer\n",
    "Array.Sort(Arr);\n",
    "Console.WriteLine(\"{0} comes first in the dictionary.\",Arr[0]);\n",
    "Console.WriteLine(\"{0} comes last in the dictionary.\", Arr[6]);"
   ]
  },
  {
   "cell_type": "markdown",
   "id": "14657df3",
   "metadata": {},
   "source": [
    "## 3. Implement function triangleArea(a,b,c) that takes as input the lengths of the 3sides of a triangle and returns the area of the triangle. By Heron's formula, the areaof a triangle with side lengths a, b, and c iss(s - a)(s -b)(s -c), wheres = (a + b + c) /2.\n",
    "\n",
    "triangleArea(2,2,2)\n",
    "\n",
    "1.7320508075688772"
   ]
  },
  {
   "cell_type": "code",
   "execution_count": 16,
   "id": "f0b1d267",
   "metadata": {},
   "outputs": [
    {
     "name": "stdout",
     "output_type": "stream",
     "text": [
      "Area of the triangle is 1.7320508 .\r\n"
     ]
    }
   ],
   "source": [
    "// creating a function TraingleArea and returning its Area \n",
    "static float TriangleArea(float a, float b,float c)\n",
    "    {\n",
    "    float s = (a + b + c) / 2;\n",
    "    return (float)Math.Sqrt(s * (s - a) *(s - b) * (s - c));\n",
    "    }\n",
    "// providing values to variables and calling the function TriangleArea to find its Area\n",
    "{\n",
    "   float a = 2;\n",
    "   float b = 2;\n",
    "   float c = 2;\n",
    "   float d = TriangleArea(a, b, c);\n",
    "   Console.WriteLine(\"Area of the triangle is {0} .\",d);\n",
    "}"
   ]
  },
  {
   "cell_type": "markdown",
   "id": "27c2538a",
   "metadata": {},
   "source": [
    "## 4. Write a program in C# Sharp to separate odd and even integers in separate arrays.Go to the editor\n",
    "## Test Data :\n",
    "## Input the number of elements to be stored in the array :5\n",
    "## Input 5 elements in the array :\n",
    "### element - 0 : 25\n",
    "### element - 1 : 47\n",
    "### element - 2 : 42\n",
    "### element - 3 : 56\n",
    "### element - 4 : 32"
   ]
  },
  {
   "cell_type": "code",
   "execution_count": 9,
   "id": "159f3cb0",
   "metadata": {},
   "outputs": [
    {
     "name": "stdout",
     "output_type": "stream",
     "text": [
      "The Even elements are: 42 56 32\n",
      "The Odd elements are: 25 47\n"
     ]
    }
   ],
   "source": [
    "// Defining array with given values and a List were we can store even value and another List were the odd value\n",
    "int[] arr = new int[5] { 25, 47, 42, 56, 32 };\n",
    "            List<int> Even = new List<int>();\n",
    "            List<int> Odd = new List<int>();\n",
    "            // Writing for loop to check each value of the array\n",
    "            for (int i = 0; i < arr.Length; i++)\n",
    "            {\n",
    "                // Check remainder of each value in array and \n",
    "                // if remainder is 0 , the value of array would be stored in Even List else in Odd list\n",
    "                if (arr[i] % 2 == 0)\n",
    "                    {\n",
    "                    Even.Add(arr[i]);\n",
    "                    }\n",
    "                else\n",
    "                    {\n",
    "                     Odd.Add(arr[i]);\n",
    "                    }    \n",
    "            }\n",
    "            // Create 2 arrays and store the values in each List to respective array\n",
    "            int[] arrEven = Even.ToArray();\n",
    "            int[] arrOdd = Odd.ToArray();\n",
    "            Console.WriteLine(\"The Even elements are: \" + string.Join(\" \", arrEven));\n",
    "            Console.WriteLine(\"The Odd elements are: \" + string.Join(\" \", arrOdd));\n"
   ]
  },
  {
   "cell_type": "markdown",
   "id": "7756973d",
   "metadata": {},
   "source": [
    "## 5. -(a) Write a function inside(x,y,x1,y1,x2,y2) that returns True or False depending on whether the point (x,y) lies in the rectangle with lower left corner (x1,y1) and upper right corner (x2,y2).\n",
    "### inside(1,1,0,0,2,3)\n",
    "### True\n",
    "### inside(-1,-1,0,0,2,3)\n",
    "### False"
   ]
  },
  {
   "cell_type": "code",
   "execution_count": 35,
   "id": "c6c4d636",
   "metadata": {},
   "outputs": [
    {
     "name": "stdout",
     "output_type": "stream",
     "text": [
      "The point(1,2) lies in the rectangle with lower left corner (0,0) and upper right corner (2,3). : True\n",
      "The point(-1,1) lies in the rectangle with lower left corner (0,0) and upper right corner (2,3). : False\n"
     ]
    }
   ],
   "source": [
    "// Created the function Inside\n",
    "static Boolean Inside(Double x,Double y,Double x1,Double y1,Double x2,Double y2)\n",
    "        {\n",
    "        // If given condition is true it will return true or will return false\n",
    "         if (x>x1 && x<x2 && y>y1 && y<y2)\n",
    "            {\n",
    "                return true;\n",
    "            }\n",
    "         else\n",
    "            {\n",
    "                return false;\n",
    "            }\n",
    "        }\n",
    "// Running the Inside function with given parameters\n",
    "        {\n",
    "            Boolean a = Inside(1, 2, 0, 0, 2, 3);\n",
    "            Console.WriteLine(\"The point(1,2) lies in the rectangle with lower left corner (0,0) and upper right corner (2,3). : {0}\",a);\n",
    "\n",
    "            Boolean b = Inside(-1, 1, 0, 0, 2, 3);\n",
    "            Console.WriteLine(\"The point(-1,1) lies in the rectangle with lower left corner (0,0) and upper right corner (2,3). : {0}\", b);\n",
    "        }"
   ]
  },
  {
   "cell_type": "markdown",
   "id": "afa4611b",
   "metadata": {},
   "source": [
    "## 5. -(b) Use function inside() from part a. to write an expression that tests whether the point (1,1) lies in both of the following rectangles: one with lower left corner (0.3, 0.5) and upper right corner (1.1, 0.7) and the other with lower left corner (0.5, 0.2) and upper right corner (1.1, 2)."
   ]
  },
  {
   "cell_type": "code",
   "execution_count": 36,
   "id": "03e32e86",
   "metadata": {},
   "outputs": [
    {
     "name": "stdout",
     "output_type": "stream",
     "text": [
      "the point(1, 1) doesn't lies in one or both the  rectangles.\r\n"
     ]
    }
   ],
   "source": [
    "// storing boolean values of both the given conditions in a and b\n",
    "Boolean a = Inside(1, 1, 0.3, 0.5, 1.1, 0.7);\n",
    "            \n",
    "Boolean b = Inside(1, 1, 0.5, 0.2, 1.1, 2);\n",
    "            // if a and b are true it will print that point lies in rectangle \n",
    "            // if either one is false it will print point is doesnt lie in rectangle\n",
    "            if (a==true && b==true)\n",
    "            {\n",
    "                Console.WriteLine(\"the point(1, 1) lies in both of the  rectangles.\");\n",
    "            }\n",
    "            else\n",
    "            {\n",
    "                Console.WriteLine(\"the point(1, 1) doesn't lies in one or both the  rectangles.\");\n",
    "            }"
   ]
  },
  {
   "cell_type": "markdown",
   "id": "5a40d765",
   "metadata": {},
   "source": [
    "## 6. You can turn a word into pig-Latin using the following two rules (simplified):\n",
    "#### • If the word starts with a consonant, move that letter to the end and append 'ay'. For example, 'happy' becomes 'appyhay' and 'pencil' becomes 'encilpay'.\n",
    "#### • If the word starts with a vowel, simply append 'way' to the end of the word. For example, 'enter' becomes 'enterway' and 'other' becomes 'otherway' . For our purposes, there are 5 vowels: a, e, i, o, u (so we count y as a consonant).\n",
    "##### Write a function pig() that takes a word (i.e., a string) as input and returns its pig-Latin form. Your function should still work if the input word contains upper case characters. Your output should always be lower case however.\n",
    "\n",
    "pig('happy')\n",
    "'appyhay'\n",
    "\n",
    "pig('Enter')\n",
    "'enterway'"
   ]
  },
  {
   "cell_type": "code",
   "execution_count": 33,
   "id": "e33ff3fb",
   "metadata": {},
   "outputs": [
    {
     "name": "stdout",
     "output_type": "stream",
     "text": [
      "Please enter a value of type string :Enter\n"
     ]
    },
    {
     "data": {
      "text/plain": [
       "'enterway'"
      ]
     },
     "execution_count": 33,
     "metadata": {},
     "output_type": "execute_result"
    }
   ],
   "source": [
    "## defining function pig and asking input from user\n",
    "def pig():\n",
    "    a=input('Please enter a value of type string :')\n",
    "    ## using lower method converting upper cases to lower\n",
    "    a=a.lower();\n",
    "    ## defining vowels in single variable and verifing if 1st char of input value is present in variable or not\n",
    "    b='aeiou'\n",
    "    c = a[0] in b\n",
    "    ## true we are adding way at end of the input value\n",
    "    if (c==True):\n",
    "        e=a + 'way'\n",
    "    ## else using slicing we are storing remaing char into a variable and then adding only 1st char to end + ay\n",
    "    else:\n",
    "        d=a[1:]\n",
    "        e=d+a[0]+'ay' \n",
    "    return e;\n",
    "\n",
    "pig()"
   ]
  },
  {
   "cell_type": "markdown",
   "id": "8c1f6e12",
   "metadata": {},
   "source": [
    "## 7. File bloodtype1.txt records blood-types of patients (A, B, AB, O or OO) at a clinic. Write a function bldcount() that reads the file with name name and reports (i.e., prints) how many patients there are in each bloodtype."
   ]
  },
  {
   "cell_type": "code",
   "execution_count": 60,
   "id": "6e9dfbbb",
   "metadata": {},
   "outputs": [
    {
     "name": "stdout",
     "output_type": "stream",
     "text": [
      "There are 15 patients of blood type A.\n",
      "There are 1 patients of blood type B.\n",
      "There are 13 patients of blood type AB.\n",
      "There are 15 patients of blood type O.\n",
      "There are 0 patients of blood type OO.\n"
     ]
    }
   ],
   "source": [
    "def bldcount():\n",
    "    infile = open('bloodtype1.txt','r')\n",
    "    Line = infile.read()\n",
    "    infile.close()\n",
    "    List = Line.split()\n",
    "    ## created a list using the uploaded file\n",
    "    a ='A'\n",
    "    b ='B'\n",
    "    c = 'AB'\n",
    "    d = 'O'\n",
    "    e = 'OO'\n",
    "    ## using count , we are counting number of times that particular value has come in the list\n",
    "    print('There are {} patients of blood type A.'.format(List.count(a)))\n",
    "    print('There are {} patients of blood type B.'.format(List.count(b)))\n",
    "    print('There are {} patients of blood type AB.'.format(List.count(c)))\n",
    "    print('There are {} patients of blood type O.'.format(List.count(d)))\n",
    "    print('There are {} patients of blood type OO.'.format(List.count(e)))\n",
    "\n",
    "bldcount()\n"
   ]
  },
  {
   "cell_type": "markdown",
   "id": "79d6075a",
   "metadata": {},
   "source": [
    "## 8. Write a function curconv() that takes as input:\n",
    "### 1. a currency represented using a string (e.g., 'JPY' for the Japanese Yen or 'EUR' for the Euro)\n",
    "### 2. an amount\n",
    "## and then converts and returns the amount in US dollars."
   ]
  },
  {
   "cell_type": "code",
   "execution_count": 287,
   "id": "8430a319",
   "metadata": {},
   "outputs": [
    {
     "name": "stdout",
     "output_type": "stream",
     "text": [
      "Please Enter a currency :sgd\n"
     ]
    },
    {
     "data": {
      "text/plain": [
       "78.8871"
      ]
     },
     "execution_count": 287,
     "metadata": {},
     "output_type": "execute_result"
    }
   ],
   "source": [
    "def curconv():\n",
    "    infile = open('currencies.txt','r')\n",
    "    Line = infile.read()\n",
    "    List = Line.split()\n",
    "    ## asking user to enter currency of any country and uppercasing all the values\n",
    "    x = input('Please Enter a currency :')\n",
    "    x=x.upper()\n",
    "    ## if the enter value is in List it will find its index add 1 to it and multiply the value at index+1 with 100\n",
    "    if(x in List) :\n",
    "        y=List.index(x)+1\n",
    "        z=(float(List[y]))*100\n",
    "    else: \n",
    "        print('Please enter correct currency.')\n",
    "    return z\n",
    "curconv()"
   ]
  },
  {
   "cell_type": "markdown",
   "id": "5790cf85",
   "metadata": {},
   "source": [
    "## 9. Each of the following will cause an exception (an error). Identify what type of exception each will cause."
   ]
  },
  {
   "cell_type": "markdown",
   "id": "04dcbef9",
   "metadata": {},
   "source": [
    "##### 9. -(a) Trying to add incompatible variables, as in adding 6 + ‘a’  -   Type Error\n",
    "##### 9. -(b) Referring to the 12th item of a list that has only 10 items   -   Index Error\n",
    "##### 9. -(c) Using a value that is out of range for a function’s input, such as calling math.sqrt( 1.0)  -  Value Error\n",
    "##### 9. -(d) Using an undeclared variable, such as print(x) when x has not been defined   -  Name Error\n",
    "##### 9. -(e) Trying to open a file that does not exist, such as mistyping the file name or looking in the wrong directory.  - FileNotFound Error\n"
   ]
  },
  {
   "cell_type": "markdown",
   "id": "20a722a1",
   "metadata": {},
   "source": [
    "## 10. Encryption is the process of hiding the meaning of a text by substituting letters in the message with other letters, according to some system. If the process is successful, no one but the intended recipient can understand the encrypted message. Cryptanalysis refers to attempts to undo the encryption, even if some details of the encryption are unknown (for example, if an encrypted message has been intercepted). The first step of cryptanalysis is often to build up a table of letter frequencies in the encrypted text. Assume that the string letters is already defined as 'abcdefghijklmnopqrstuvwxyz'. Write a function called frequencies() that takes a string as its only parameter, and returns a list of integers, showing the number of times each character appears in the text. Your function may ignore any characters that are not in letters."
   ]
  },
  {
   "cell_type": "code",
   "execution_count": 284,
   "id": "7e613b06",
   "metadata": {},
   "outputs": [
    {
     "name": "stdout",
     "output_type": "stream",
     "text": [
      "Enter a string parameter : apple\n",
      "1\n",
      "0\n",
      "0\n",
      "0\n",
      "1\n",
      "0\n",
      "0\n",
      "0\n",
      "0\n",
      "0\n",
      "0\n",
      "1\n",
      "0\n",
      "0\n",
      "0\n",
      "2\n",
      "0\n",
      "0\n",
      "0\n",
      "0\n",
      "0\n",
      "0\n",
      "0\n",
      "0\n",
      "0\n",
      "0\n"
     ]
    }
   ],
   "source": [
    "def frequencies():\n",
    "    ## asking user to input a string and defining given letters in an array\n",
    "    value = input(\"Enter a string parameter : \")\n",
    "    letters=['a','b','c','d','e','f','g','h','i','j','k','l','m','n','o','p','q','r','s','t','u','v','w','x','y','z']\n",
    "    ## finding length of the array\n",
    "    z=len(letters)\n",
    "    ## count number of times value in array is present in the given string and print it\n",
    "    for i in range(0,z):\n",
    "        b=value.count(letters[i])\n",
    "        print(b)\n",
    "frequencies()"
   ]
  },
  {
   "cell_type": "code",
   "execution_count": null,
   "id": "dac8f31e",
   "metadata": {},
   "outputs": [],
   "source": []
  },
  {
   "cell_type": "code",
   "execution_count": null,
   "id": "3b8054cd",
   "metadata": {},
   "outputs": [],
   "source": []
  }
 ],
 "metadata": {
  "kernelspec": {
   "display_name": "Python 3",
   "language": "python",
   "name": "python3"
  },
  "language_info": {
   "codemirror_mode": {
    "name": "ipython",
    "version": 3
   },
   "file_extension": ".py",
   "mimetype": "text/x-python",
   "name": "python",
   "nbconvert_exporter": "python",
   "pygments_lexer": "ipython3",
   "version": "3.9.5"
  }
 },
 "nbformat": 4,
 "nbformat_minor": 5
}
